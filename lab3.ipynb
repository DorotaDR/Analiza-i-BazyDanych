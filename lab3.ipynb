{
 "cells": [
  {
   "cell_type": "markdown",
   "metadata": {},
   "source": [
    "## Wyświetl listę imion i nazwisk menedżerów mieszkających w tym samym kraju i pracujących w tym sam sklep.\n"
   ]
  },
  {
   "cell_type": "code",
   "execution_count": 4,
   "metadata": {},
   "outputs": [
    {
     "ename": "SyntaxError",
     "evalue": "invalid syntax (<ipython-input-4-1860117bbce9>, line 1)",
     "output_type": "error",
     "traceback": [
      "\u001b[1;36m  File \u001b[1;32m\"<ipython-input-4-1860117bbce9>\"\u001b[1;36m, line \u001b[1;32m1\u001b[0m\n\u001b[1;33m    KAZDY sklep z definicji i konstrukccji bazy danych dopuszcza jedynie jednego menadzera na sklep.\u001b[0m\n\u001b[1;37m              ^\u001b[0m\n\u001b[1;31mSyntaxError\u001b[0m\u001b[1;31m:\u001b[0m invalid syntax\n"
     ]
    }
   ],
   "source": [
    "KAZDY sklep z definicji i konstrukccji bazy danych dopuszcza jedynie jednego menadzera na sklep. "
   ]
  },
  {
   "cell_type": "markdown",
   "metadata": {},
   "source": [
    "## Znajdź listę wszystkich filmów o tej samej długości.\n"
   ]
  },
  {
   "cell_type": "markdown",
   "metadata": {},
   "source": [
    "SELECT\n",
    "   length,\n",
    "   title\n",
    "FROM\n",
    "   film\n",
    "WHERE \n",
    "\tlength IN\n",
    "\t(SELECT length FROM film GROUP BY length HAVING COUNT(*)>1)\n",
    "ORDER BY length DESC"
   ]
  },
  {
   "cell_type": "markdown",
   "metadata": {},
   "source": [
    "## 4. Oblicz średni koszt wypozycenia wszystkich filmów."
   ]
  },
  {
   "cell_type": "markdown",
   "metadata": {},
   "source": [
    "SELECT AVG(amount) FROM payment "
   ]
  },
  {
   "cell_type": "markdown",
   "metadata": {},
   "source": [
    "## Oblicz i wyświetl liczbę filmów we wszystkich kategoriach."
   ]
  },
  {
   "cell_type": "markdown",
   "metadata": {},
   "source": [
    "SELECT\n",
    " c.category_id, name, ilosc\n",
    "FROM \n",
    "(SELECT category_id, COUNT (title) as ilosc\n",
    "FROM\n",
    "(SELECT \n",
    " a.category_id, b.title \n",
    "FROM film_category as a \n",
    "inner join film as b ON b.film_id=a.film_id ) as tabela\n",
    "GROUP BY category_id) as hubi\n",
    "inner join category as c on hubi.category_id = c.category_id"
   ]
  },
  {
   "cell_type": "markdown",
   "metadata": {},
   "source": [
    "##  Wyświetl liczbę wszystkich klientów pogrupowanych według kraju."
   ]
  },
  {
   "cell_type": "code",
   "execution_count": null,
   "metadata": {
    "collapsed": true
   },
   "outputs": [],
   "source": [
    "SELECT country, COUNT(customer_id)\n",
    "FROM\n",
    "\t(SELECT customer.first_name, customer.last_name, customer.customer_id, customer.address_id, city.city_id, country.country_id, country.country\n",
    "\tFROM customer,  address, city, country\n",
    "\tWHERE \n",
    "\tpublic.customer.address_id=address.address_id \n",
    "\tAND \n",
    "\taddress.city_id = city.city_id \n",
    "\tAND \n",
    "\tcity.country_id = country.country_id) as customer_country\n",
    "GROUP BY \n",
    "country"
   ]
  },
  {
   "cell_type": "markdown",
   "metadata": {},
   "source": [
    "## Wyświetl informacje o sklepie, który ma więcej niż 100 klientów i mniej niż 300 klientów."
   ]
  },
  {
   "cell_type": "code",
   "execution_count": null,
   "metadata": {
    "collapsed": true
   },
   "outputs": [],
   "source": [
    "SELECT \n",
    "\tstore_id, COUNT (customer_id)\n",
    "FROM customer\n",
    "GROUP BY \n",
    "store_id\n",
    "HAVING \n",
    "COUNT(customer_id) between 100 and 300"
   ]
  },
  {
   "cell_type": "markdown",
   "metadata": {},
   "source": [
    "## Wybierz wszystkich klientów, którzy oglądali filmy ponad 200 godzin."
   ]
  },
  {
   "cell_type": "code",
   "execution_count": null,
   "metadata": {
    "collapsed": true
   },
   "outputs": [],
   "source": [
    "SELECT \n",
    "comp_film_cust.customer_id, customer.first_name, customer.last_name, sum \n",
    "FROM\n",
    "\t(SELECT \n",
    "\t\tfilm_cust.customer_id, SUM(film_cust.length)\n",
    "\tFROM \n",
    "\t\t(SELECT \n",
    "\t\t\tfilm.length, inv_cust.film_id, inv_cust.inventory_id, inv_cust.customer_id\n",
    "\t\tFROM \n",
    "\t\t\t(SELECT \n",
    "\t\t\t\tinv.film_id, inv.inventory_id, customer_id\n",
    "\t\t\tFROM\n",
    "\t\t\t\t(SELECT inventory_id, rent.customer_id, cust.first_name, cust.last_name\n",
    "\t\t\t\tfrom \n",
    "\t\t\t\t\tpublic.rental as rent\n",
    "\t\t\t\t\tINNER JOIN public.customer as cust \n",
    "\t\t\t\t\tON rent.customer_id = cust.customer_id) as rent_cust\n",
    "\t\t\t\tINNER JOIN inventory as inv \n",
    "\t\t\t\tON rent_cust.inventory_id = inv.inventory_id) as inv_cust\n",
    "\t\t\tINNER JOIN film \n",
    "\t\t\tON inv_cust.film_id=film.film_id) as film_cust\n",
    "\tGROUP BY film_cust.customer_id\n",
    "\tHAVING  SUM(film_cust.length) > 200) as comp_film_cust\n",
    "\t\n",
    "RIGHT JOIN customer \n",
    "ON customer.customer_id = comp_film_cust.customer_id "
   ]
  },
  {
   "cell_type": "code",
   "execution_count": null,
   "metadata": {
    "collapsed": true
   },
   "outputs": [],
   "source": []
  },
  {
   "cell_type": "code",
   "execution_count": null,
   "metadata": {
    "collapsed": true
   },
   "outputs": [],
   "source": []
  },
  {
   "cell_type": "markdown",
   "metadata": {},
   "source": [
    "## Oblicz średnią wartość wypożyczenia filmu."
   ]
  },
  {
   "cell_type": "code",
   "execution_count": null,
   "metadata": {
    "collapsed": true
   },
   "outputs": [],
   "source": [
    "SELECT AVG(amount) FROM payment "
   ]
  },
  {
   "cell_type": "markdown",
   "metadata": {},
   "source": [
    "## Oblicz średnią wartość długości filmu we wszystkich kategoriach."
   ]
  },
  {
   "cell_type": "code",
   "execution_count": null,
   "metadata": {
    "collapsed": true
   },
   "outputs": [],
   "source": [
    "SELECT AVG(length) FROM film \n",
    "\n",
    "odp: \"115.2720000000000000\""
   ]
  },
  {
   "cell_type": "markdown",
   "metadata": {},
   "source": [
    "## Znajdź najdłuższe tytuły filmowe we wszystkich kategoriach."
   ]
  },
  {
   "cell_type": "code",
   "execution_count": null,
   "metadata": {
    "collapsed": true
   },
   "outputs": [],
   "source": [
    "SELECT title, (length(title)) FROM film\n",
    " ORDER BY length DESC"
   ]
  },
  {
   "cell_type": "markdown",
   "metadata": {},
   "source": [
    "## Znajdź najdłuższy film we wszystkich kategoriach. Porównaj wynik z pkt 10."
   ]
  },
  {
   "cell_type": "code",
   "execution_count": 3,
   "metadata": {},
   "outputs": [
    {
     "ename": "SyntaxError",
     "evalue": "invalid syntax (<ipython-input-3-1e3a0e32601e>, line 1)",
     "output_type": "error",
     "traceback": [
      "\u001b[1;36m  File \u001b[1;32m\"<ipython-input-3-1e3a0e32601e>\"\u001b[1;36m, line \u001b[1;32m1\u001b[0m\n\u001b[1;33m    SELECT title, length FROM film\u001b[0m\n\u001b[1;37m               ^\u001b[0m\n\u001b[1;31mSyntaxError\u001b[0m\u001b[1;31m:\u001b[0m invalid syntax\n"
     ]
    }
   ],
   "source": [
    " SELECT title, length FROM film\n",
    " ORDER BY length DESC\n",
    "\n",
    "odp = 185"
   ]
  },
  {
   "cell_type": "code",
   "execution_count": null,
   "metadata": {
    "collapsed": true
   },
   "outputs": [],
   "source": []
  }
 ],
 "metadata": {
  "kernelspec": {
   "display_name": "Python 3",
   "language": "python",
   "name": "python3"
  },
  "language_info": {
   "codemirror_mode": {
    "name": "ipython",
    "version": 3
   },
   "file_extension": ".py",
   "mimetype": "text/x-python",
   "name": "python",
   "nbconvert_exporter": "python",
   "pygments_lexer": "ipython3",
   "version": "3.6.3"
  }
 },
 "nbformat": 4,
 "nbformat_minor": 2
}
