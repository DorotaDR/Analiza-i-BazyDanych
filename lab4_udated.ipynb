{
 "cells": [
  {
   "cell_type": "markdown",
   "metadata": {},
   "source": [
    "## Znajdź wszystkie nazwy krajów rozpoczynających się na P."
   ]
  },
  {
   "cell_type": "code",
   "execution_count": null,
   "metadata": {},
   "outputs": [],
   "source": [
    "SELECT country \n",
    "FROM public.country\n",
    "WHERE  country ~ '^P' "
   ]
  },
  {
   "cell_type": "markdown",
   "metadata": {},
   "source": [
    "## Znajdź wszystkie nazwy krajów rozpoczynających się P i kończących na s."
   ]
  },
  {
   "cell_type": "code",
   "execution_count": null,
   "metadata": {
    "collapsed": true
   },
   "outputs": [],
   "source": [
    "SELECT country \n",
    "FROM public.country\n",
    "WHERE  country ~ '^P' AND country ~'s$'"
   ]
  },
  {
   "cell_type": "markdown",
   "metadata": {},
   "source": [
    "## Znajdź wszystkie tytuły filmów, w których znajdują się cyfry."
   ]
  },
  {
   "cell_type": "code",
   "execution_count": null,
   "metadata": {},
   "outputs": [],
   "source": [
    "SELECT title \n",
    "FROM film\n",
    "WHERE title ~'[1:9]'"
   ]
  },
  {
   "cell_type": "markdown",
   "metadata": {},
   "source": [
    "## Znajdź wszystkich pracowników z podwójnym imieniem lub nazwiskiem."
   ]
  },
  {
   "cell_type": "code",
   "execution_count": null,
   "metadata": {},
   "outputs": [],
   "source": [
    "SELECT first_name, last_name \n",
    "FROM customer\n",
    "WHERE first_name ~~ '% %' OR last_name ~~ '% %' OR last_name ~~ '%-%'"
   ]
  },
  {
   "cell_type": "markdown",
   "metadata": {},
   "source": [
    "## Znajdź wszystkie nazwiska aktorów rozpoczynających się od P lub C i mających 5 znaków."
   ]
  },
  {
   "cell_type": "code",
   "execution_count": null,
   "metadata": {},
   "outputs": [],
   "source": [
    "SELECT last_name \n",
    "FROM actor\n",
    "WHERE (last_name ~ '^P' OR  last_name ~ '^C' ) AND length(last_name)=5 "
   ]
  },
  {
   "cell_type": "markdown",
   "metadata": {},
   "source": [
    "## Znajdź wszystkie tytuły filmów, w których występują słowa Trip lub Alone."
   ]
  },
  {
   "cell_type": "code",
   "execution_count": null,
   "metadata": {},
   "outputs": [],
   "source": [
    "SELECT title \n",
    "FROM film\n",
    "WHERE  title ~* 'Trip' OR title ~* 'Alone'"
   ]
  },
  {
   "cell_type": "markdown",
   "metadata": {},
   "source": [
    "## Przeanalizuj zapytania:\n",
    "select first_name from actor where first_name ~ '^ Al [a: z, 1: 9] *' - \n",
    "select first_name from actor where first_name ~ * '^ al [a: z, 1: 9] *'"
   ]
  },
  {
   "cell_type": "code",
   "execution_count": null,
   "metadata": {
    "collapsed": true
   },
   "outputs": [],
   "source": [
    "select first_name from actor where first_name ~ '^ Al [a: z, 1: 9] *' - tylko pierwsza litera musi byc wielka, reszta male\n",
    "\n"
   ]
  },
  {
   "cell_type": "code",
   "execution_count": null,
   "metadata": {},
   "outputs": [],
   "source": [
    "select first_name from actor where first_name ~ * '^ al [a: z, 1: 9] *' - kazda litera moze byc wielka lub mala"
   ]
  }
 ],
 "metadata": {
  "kernelspec": {
   "display_name": "Python 3",
   "language": "python",
   "name": "python3"
  },
  "language_info": {
   "codemirror_mode": {
    "name": "ipython",
    "version": 3
   },
   "file_extension": ".py",
   "mimetype": "text/x-python",
   "name": "python",
   "nbconvert_exporter": "python",
   "pygments_lexer": "ipython3",
   "version": "3.7.3"
  }
 },
 "nbformat": 4,
 "nbformat_minor": 2
}
