{
 "cells": [
  {
   "cell_type": "raw",
   "metadata": {},
   "source": [
    "SELECT DISTINCT category_id FROM film_category \n",
    "odp: 16 kategorii"
   ]
  },
  {
   "cell_type": "code",
   "execution_count": null,
   "metadata": {
    "collapsed": true
   },
   "outputs": [],
   "source": [
    "2.\n",
    "SELECT * FROM category ORDER BY name\n"
   ]
  },
  {
   "cell_type": "markdown",
   "metadata": {},
   "source": [
    "## Ile kategorii filmów mamy w wypożyczalni?\n",
    "SELECT DISTINCT category_id FROM film_category \n",
    "odp: 16 kategorii"
   ]
  },
  {
   "cell_type": "markdown",
   "metadata": {},
   "source": [
    "# Wyświetl listę kategorii w kolejności alfabetycznej.\n",
    "SELECT * FROM category ORDER BY name"
   ]
  },
  {
   "cell_type": "markdown",
   "metadata": {},
   "source": [
    "\n",
    "# Znajdź najstarszy i najmłodszy film do wypożyczenia.\n",
    "SELECT * FROM film WHERE film.release_year=2006 ORDER BY film.release_year DESC ; //ASC\n",
    "odp wszytskie z 2006"
   ]
  },
  {
   "cell_type": "markdown",
   "metadata": {},
   "source": [
    "# Ile wyporzyczeń odbyło się między 2005-07-01 a 2005-08-01?\n",
    "SELECT COUNT(*) FROM rental WHERE rental.rental_date  BETWEEN '2005-07-01 00:00:00' AND '2005-08-01 00:00:00';\n",
    "odp 6709"
   ]
  },
  {
   "cell_type": "markdown",
   "metadata": {},
   "source": [
    "# Ile wyporzyczeń odbyło się między 2010-01-01 a 2011-02-01?\n",
    "\n",
    "SELECT COUNT(*) FROM rental WHERE rental.rental_date  BETWEEN '2010-01-01 00:00:00' AND '2011-02-01 00:00:00';\n",
    "odp: 0"
   ]
  },
  {
   "cell_type": "markdown",
   "metadata": {},
   "source": [
    "# Znajdź największą płatność wyporzyczenia.\n",
    "SELECT MAX(amount) FROM payment\n",
    "odp: 11.99"
   ]
  },
  {
   "cell_type": "markdown",
   "metadata": {},
   "source": [
    "# Znajdź wszystkich klientów z Polski, Nigerii lub Bangladeszu.\n",
    "\n",
    "SELECT * FROM customer, address, city, country \n",
    "WHERE customer.address_id=address.address_id AND \n",
    "address.city_id=city.city_id AND\n",
    "city.country_id=country.country_id AND \n",
    "(country.country='Poland' OR \n",
    "country.country='Nigeria' OR\n",
    "country.country='Bangladesh');"
   ]
  },
  {
   "cell_type": "markdown",
   "metadata": {},
   "source": [
    "# Gdzie mieszkają członkowie personelu?\n",
    "SELECT staff_id, first_name, last_name, address, city, country  FROM staff, address, city, country \n",
    "WHERE staff.address_id=address.address_id AND \n",
    "address.city_id=city.city_id AND\n",
    "city.country_id=country.country_id;"
   ]
  },
  {
   "cell_type": "markdown",
   "metadata": {},
   "source": [
    "# Ilu pracowników mieszka w Argentynie lub Hiszpanii?\n",
    "SELECT COUNT(*)  FROM staff, address, city, country \n",
    "WHERE staff.address_id=address.address_id AND \n",
    "address.city_id=city.city_id AND\n",
    "city.country_id=country.country_id AND\n",
    "(country='Argentine' OR country='Spain');\n",
    "odp: 0"
   ]
  },
  {
   "cell_type": "markdown",
   "metadata": {},
   "source": [
    "# Jakie kategorie filmów zostały wypożyczone przez klientów?\n"
   ]
  },
  {
   "cell_type": "code",
   "execution_count": null,
   "metadata": {
    "collapsed": true
   },
   "outputs": [],
   "source": [
    "SELECT film_category FROM categories, films, customers, orders WHERE"
   ]
  },
  {
   "cell_type": "markdown",
   "metadata": {},
   "source": [
    "# Znajdź wszystkie kategorie filmów wypożyczonych w Ameryce."
   ]
  },
  {
   "cell_type": "code",
   "execution_count": null,
   "metadata": {
    "collapsed": true
   },
   "outputs": [],
   "source": []
  },
  {
   "cell_type": "markdown",
   "metadata": {},
   "source": [
    "# Znajdź wszystkie tytuły filmów, w których grał: Olympia Pfeiffer lub Julia Zellweger lub Ellen Presley 13*. "
   ]
  },
  {
   "cell_type": "markdown",
   "metadata": {},
   "source": [
    "'//\n",
    "SELECT film_category FROM categories, film, actors WHERE categories.film_id=films.film_id AND films.actor_id=actors.actor_id  AND ((name='Olympia' AND surname = 'Pfeiffer') OR (name='Julia' AND surname = 'Zellweger') OR (name='Ellen' AND surname = 'Presley 13'))"
   ]
  },
  {
   "cell_type": "markdown",
   "metadata": {},
   "source": [
    "Notes "
   ]
  },
  {
   "cell_type": "markdown",
   "metadata": {},
   "source": [
    "JOIN tylko ukryty\n",
    "\n",
    "SELECt * from tab_1, tab2, tabm3. WHERE tab1.id=tab.id and"
   ]
  },
  {
   "cell_type": "code",
   "execution_count": null,
   "metadata": {
    "collapsed": true
   },
   "outputs": [],
   "source": []
  }
 ],
 "metadata": {
  "kernelspec": {
   "display_name": "Python 3",
   "language": "python",
   "name": "python3"
  },
  "language_info": {
   "codemirror_mode": {
    "name": "ipython",
    "version": 3
   },
   "file_extension": ".py",
   "mimetype": "text/x-python",
   "name": "python",
   "nbconvert_exporter": "python",
   "pygments_lexer": "ipython3",
   "version": "3.6.3"
  }
 },
 "nbformat": 4,
 "nbformat_minor": 2
}
