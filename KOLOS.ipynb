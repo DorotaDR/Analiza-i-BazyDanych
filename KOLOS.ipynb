{
 "cells": [
  {
   "cell_type": "markdown",
   "metadata": {},
   "source": [
    "1. \n",
    "SELECT * \n",
    "FROM actor\n",
    "WHERE actor_id between 10 and 29"
   ]
  },
  {
   "cell_type": "code",
   "execution_count": null,
   "metadata": {},
   "outputs": [],
   "source": [
    "2. \n",
    "SELECT * \n",
    "FROM film\n",
    "WHERE film_id between 10 and 29"
   ]
  },
  {
   "cell_type": "code",
   "execution_count": null,
   "metadata": {},
   "outputs": [],
   "source": [
    "3. \n",
    "SELECT title, a.actor_id\n",
    "FROM\n",
    "\t(SELECT title, fa.actor_id\n",
    "\tFROM \n",
    "\tfilm as f INNER JOIN film_actor as fa ON f.film_id=fa.film_id) as f_f_a\n",
    "INNER JOIN\n",
    "\tactor as a \n",
    "ON f_f_a.actor_id = a.actor_id\n",
    "WHERE  a.actor_id=19"
   ]
  },
  {
   "cell_type": "code",
   "execution_count": null,
   "metadata": {},
   "outputs": [],
   "source": [
    "4. \n",
    "SELECT AVG(length) FROM film"
   ]
  },
  {
   "cell_type": "code",
   "execution_count": null,
   "metadata": {},
   "outputs": [],
   "source": [
    "5. \n",
    "\t\n",
    "SELECT *\t\n",
    "FROM\n",
    "\t(SELECT c.country, count(city_id) as count_cities\n",
    "\tFROM\n",
    "\t\t(SELECT city_id, country.country_id, country.country\n",
    "\t\tfrom\n",
    "\t\tcity INNER JOIN country ON city.country_id=country.country_id) as c\n",
    "\tGROUP BY country)as grouped_c\n",
    "ORDER BY count_cities ASC LIMIT 1"
   ]
  },
  {
   "cell_type": "code",
   "execution_count": null,
   "metadata": {},
   "outputs": [],
   "source": [
    "6. SELECT film.length\n",
    "FROM category, film_category, film\n",
    "WHERE category.category_id = film_category.category_id and film_category.film_id = film.film_id AND category.NAME ~~*'COMEDY'"
   ]
  }
 ],
 "metadata": {
  "kernelspec": {
   "display_name": "Python 3",
   "language": "python",
   "name": "python3"
  },
  "language_info": {
   "codemirror_mode": {
    "name": "ipython",
    "version": 3
   },
   "file_extension": ".py",
   "mimetype": "text/x-python",
   "name": "python",
   "nbconvert_exporter": "python",
   "pygments_lexer": "ipython3",
   "version": "3.7.3"
  }
 },
 "nbformat": 4,
 "nbformat_minor": 2
}
